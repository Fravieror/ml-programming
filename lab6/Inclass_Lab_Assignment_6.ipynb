{
 "cells": [
  {
   "cell_type": "markdown",
   "metadata": {},
   "source": [
    "# Lab Assignment 6\n",
    "#### This Lab task is to completed individually, Please Add your Name and ID Below, please comment your code thoroughly and name your variables wisely. (Grade out of 17, 3 marks for commented organized code.)\n",
    "- Name: Francisco Javier Diaz Roa\n",
    "- ID: 8975938"
   ]
  },
  {
   "cell_type": "markdown",
   "metadata": {},
   "source": [
    "### Question 1-   (5)\n",
    "Check the files inside microbiome folder, (MID1, MID2, ... , MID9.xls files), you need to combine those files into single dataframe.<br>\n",
    "Then You will need to add to this dataframe the relevant metadata information from metadata.csv <br>\n",
    "Each folder represents information from different bacteria, MID1, MID2, ...\n",
    "<br>\n",
    "__Inspect the files before answering the question__\n"
   ]
  },
  {
   "cell_type": "code",
   "execution_count": 2,
   "metadata": {},
   "outputs": [
    {
     "name": "stdout",
     "output_type": "stream",
     "text": [
      "Requirement already satisfied: xlrd in /Library/Frameworks/Python.framework/Versions/3.12/lib/python3.12/site-packages (2.0.1)\n",
      "\n",
      "\u001b[1m[\u001b[0m\u001b[34;49mnotice\u001b[0m\u001b[1;39;49m]\u001b[0m\u001b[39;49m A new release of pip is available: \u001b[0m\u001b[31;49m24.0\u001b[0m\u001b[39;49m -> \u001b[0m\u001b[32;49m24.1\u001b[0m\n",
      "\u001b[1m[\u001b[0m\u001b[34;49mnotice\u001b[0m\u001b[1;39;49m]\u001b[0m\u001b[39;49m To update, run: \u001b[0m\u001b[32;49mpip install --upgrade pip\u001b[0m\n"
     ]
    }
   ],
   "source": [
    "!pip install xlrd"
   ]
  },
  {
   "cell_type": "code",
   "execution_count": 3,
   "metadata": {},
   "outputs": [
    {
     "name": "stdout",
     "output_type": "stream",
     "text": [
      "                                                name  count barcode  group  \\\n",
      "0  Archaea \"Crenarchaeota\" Thermoprotei Desulfuro...      1    MID6  NEC 1   \n",
      "1  Archaea \"Crenarchaeota\" Thermoprotei Desulfuro...      1    MID6  NEC 1   \n",
      "2  Archaea \"Crenarchaeota\" Thermoprotei Desulfuro...      2    MID6  NEC 1   \n",
      "3  Archaea \"Crenarchaeota\" Thermoprotei Sulfoloba...      5    MID6  NEC 1   \n",
      "4  Archaea \"Crenarchaeota\" Thermoprotei Sulfoloba...      4    MID6  NEC 1   \n",
      "\n",
      "  sample  \n",
      "0  stool  \n",
      "1  stool  \n",
      "2  stool  \n",
      "3  stool  \n",
      "4  stool  \n"
     ]
    }
   ],
   "source": [
    "# combine the MID1, MID2, ... , MID9.xls files into a single dataframe\n",
    "\n",
    "\n",
    "import pandas as pd\n",
    "import os\n",
    "\n",
    "# get the list of files in the current directory\n",
    "files = os.listdir()\n",
    "\n",
    "\n",
    "# Initialize an empty list to store DataFrames\n",
    "data_frames = []\n",
    "\n",
    "# filter out the files that are not .xls files\n",
    "files = [f for f in files if f.endswith('.xls')]\n",
    "\n",
    "# read the metadata file\n",
    "metadata = pd.read_excel('metadata.xls')\n",
    "\n",
    "# read each file and append the data to the dataframe\n",
    "for f in files:\n",
    "    # ignore the metadata.xls file\n",
    "    if f == 'metadata.xls' :\n",
    "        continue\n",
    "    data = pd.read_excel(f)\n",
    "    # name the two columns\n",
    "    data.columns = ['name', 'count']\n",
    "\n",
    "    # get the last digit of the file name\n",
    "    n = f[-5]\n",
    "\n",
    "    barcode = metadata['BARCODE'][int(n) - 1]\n",
    "    group = metadata['GROUP'][int(n) - 1]\n",
    "    sample = metadata['SAMPLE'][int(n) - 1]\n",
    "\n",
    "    # Add metadata information to the data\n",
    "    data['barcode'] = barcode\n",
    "    data['group'] = group\n",
    "    data['sample'] = sample\n",
    "\n",
    "    # append the data to the list\n",
    "    data_frames.append(data)\n",
    "\n",
    "# concatenate the dataframes\n",
    "df = pd.concat(data_frames)\n",
    "print(df.head())\n",
    "\n",
    "# save the dataframe to a csv file\n",
    "df.to_csv('combined_data.csv', index=False)\n",
    "\n",
    "\n",
    "\n",
    "\n",
    "\n",
    "\n"
   ]
  },
  {
   "cell_type": "markdown",
   "metadata": {},
   "source": [
    "### Question 2: Approximate String Matching\n",
    "2.1- Implement FROM SCRATCH the approximate string matching functionality using Levenshtein Distance (6 marks)\n",
    "- Levenshtein Distance between two strings a,b of length |a| and |b| is calculated by creating a matrix of dimensions |a+1|x|b+1| and then filling the matrix by the following equation:<br>\n",
    "lev<sub>a,b</sub>(i,j) = <br>\n",
    "a. max(i,j) IF min(i,j)=0<br>\n",
    "b. minimum of:    \n",
    "    <ol> <li>lev<sub>a,b</sub>(i-1,j)+1</li>\n",
    "    <li>lev<sub>a,b</sub>(i,j-1)+1</li>\n",
    "    <li>lev<sub>a,b</sub>(i-1,j-1)+ \n",
    "            *1 if (a<sub>i</sub> != b<sub>j</sub>), 0 otherwise*</li> </ol>\n"
   ]
  },
  {
   "cell_type": "code",
   "execution_count": 4,
   "metadata": {},
   "outputs": [
    {
     "name": "stdout",
     "output_type": "stream",
     "text": [
      "[[0, 0, 0, 0, 0, 0, 0, 0], [1, 0, 1, 1, 1, 1, 1, 1], [2, 1, 1, 2, 2, 2, 2, 2], [3, 2, 2, 2, 2, 3, 3, 3], [4, 3, 3, 3, 3, 2, 3, 4], [5, 4, 4, 4, 4, 3, 2, 3]]\n",
      "3\n"
     ]
    }
   ],
   "source": [
    "def calculate_levenshtein_distance(string_a, string_b):\n",
    "    ## TODO: Write the functionality that calculates how many edit operations are required to change one string into another\n",
    "    ## Example: Distance \"HONDA\" to \"HYUNDAI\" is 3, where the operations are adding \"Y\" after H in Honda\n",
    "    ## Then replacing O with Y, then keeping N, keeping D, keeping A, adding I.\n",
    "    # crete a function to calculate_levenshtein_distance wich takes two strings as input\n",
    "    \n",
    "    # Create the matrix of the size of the two strings\n",
    "    matrix = [[0 for i in range(len(string_b)+1)] for j in range(len(string_a)+1)]\n",
    "\n",
    "    # Fill the matrix with the minimum of the three possible values\n",
    "    for i in range(1, len(string_a)+1):\n",
    "        matrix[i][0] = i\n",
    "        for j in range(0, len(string_b)+1):\n",
    "            if j==0:\n",
    "                matrix[0][j] = j\n",
    "                continue\n",
    "            insertion = matrix[i][j-1] + 1\n",
    "            deletion = matrix[i-1][j] + 1\n",
    "            substitution = matrix[i-1][j-1] + (0 if string_a[i-1] == string_b[j-1] else 1)\n",
    "            matrix[i][j] = min(insertion, deletion, substitution)\n",
    "\n",
    "    print(matrix)\n",
    "\n",
    "    # Return the value of the last element of the matrix\n",
    "    return matrix[-1][-1]\n",
    "\n",
    "# Test the function with the example\n",
    "print(calculate_levenshtein_distance(\"HONDA\", \"HYUNDAI\")) # Expected 3"
   ]
  },
  {
   "cell_type": "markdown",
   "metadata": {},
   "source": [
    "2.2- Using the implemented Levenshtein's distance, merge the following dataframes based on the closest match for the \"Name\" attribute. (You will need to find first the matching pairs) (3 marks)"
   ]
  },
  {
   "cell_type": "code",
   "execution_count": 5,
   "metadata": {},
   "outputs": [
    {
     "name": "stdout",
     "output_type": "stream",
     "text": [
      "[[0, 0, 0, 0, 0, 0, 0, 0, 0, 0], [1, 0, 1, 1, 1, 1, 1, 1, 1, 1], [2, 1, 0, 1, 2, 2, 2, 2, 2, 2], [3, 2, 1, 1, 2, 3, 3, 3, 3, 2], [4, 3, 2, 1, 2, 3, 4, 4, 4, 3], [5, 4, 3, 2, 1, 2, 3, 4, 5, 4], [6, 5, 4, 3, 2, 1, 2, 3, 4, 5], [7, 6, 5, 4, 3, 2, 1, 2, 3, 4], [8, 7, 6, 5, 4, 3, 2, 1, 2, 3], [9, 8, 7, 6, 5, 4, 3, 2, 1, 2], [10, 9, 8, 7, 6, 5, 4, 3, 2, 1]]\n",
      "[[0, 0, 0, 0, 0, 0, 0, 0, 0, 0, 0, 0, 0], [1, 1, 1, 1, 1, 1, 1, 0, 1, 1, 1, 1, 1], [2, 2, 2, 2, 2, 2, 2, 1, 0, 1, 2, 1, 2], [3, 3, 3, 3, 3, 3, 3, 2, 1, 1, 2, 2, 2], [4, 4, 4, 4, 4, 4, 4, 3, 2, 1, 2, 3, 2], [5, 5, 5, 5, 5, 5, 4, 4, 3, 2, 2, 3, 3], [6, 6, 6, 6, 6, 6, 5, 5, 4, 3, 3, 3, 4], [7, 7, 7, 7, 7, 7, 6, 6, 5, 4, 4, 4, 4], [8, 8, 8, 8, 8, 8, 7, 7, 6, 5, 5, 5, 5], [9, 9, 9, 9, 9, 9, 8, 8, 7, 6, 6, 6, 6], [10, 10, 10, 10, 10, 10, 9, 9, 8, 7, 7, 7, 7]]\n",
      "[[0, 0, 0, 0, 0, 0, 0, 0, 0, 0, 0, 0, 0, 0], [1, 1, 1, 1, 1, 1, 1, 1, 1, 1, 1, 1, 1, 1], [2, 2, 1, 2, 2, 2, 2, 2, 2, 2, 2, 2, 2, 2], [3, 3, 2, 2, 3, 3, 3, 3, 3, 3, 3, 3, 3, 3], [4, 4, 3, 3, 3, 4, 4, 4, 4, 4, 4, 4, 4, 4], [5, 5, 4, 4, 4, 4, 5, 4, 5, 5, 5, 5, 5, 5], [6, 6, 5, 5, 5, 5, 5, 5, 5, 6, 6, 6, 6, 6], [7, 7, 6, 6, 6, 6, 6, 6, 6, 6, 7, 7, 7, 7], [8, 8, 7, 7, 7, 7, 7, 7, 7, 7, 7, 8, 8, 8], [9, 9, 8, 8, 8, 8, 7, 8, 8, 8, 8, 8, 9, 9], [10, 10, 9, 9, 9, 9, 8, 8, 9, 9, 9, 9, 9, 10]]\n",
      "[[0, 0, 0, 0, 0, 0, 0, 0], [1, 1, 1, 1, 1, 1, 1, 1], [2, 2, 2, 2, 2, 2, 2, 2], [3, 3, 3, 3, 3, 3, 3, 3], [4, 4, 4, 4, 4, 4, 4, 4], [5, 5, 5, 5, 5, 4, 5, 5], [6, 6, 6, 6, 6, 5, 5, 6], [7, 7, 7, 7, 7, 6, 6, 6], [8, 8, 8, 8, 8, 7, 7, 7], [9, 9, 9, 9, 9, 8, 8, 8], [10, 10, 10, 10, 10, 9, 9, 9]]\n",
      "[[0, 0, 0, 0, 0, 0, 0, 0, 0, 0], [1, 1, 1, 1, 1, 1, 1, 1, 1, 1], [2, 2, 1, 2, 2, 2, 2, 2, 2, 2], [3, 3, 2, 2, 3, 3, 3, 3, 3, 3], [4, 4, 3, 3, 3, 4, 4, 4, 4, 4], [5, 5, 4, 4, 3, 4, 5, 5, 5, 5], [6, 6, 5, 5, 4, 4, 5, 6, 6, 6], [7, 7, 6, 6, 5, 5, 5, 6, 7, 7], [8, 8, 7, 7, 6, 6, 6, 6, 7, 8], [9, 9, 8, 8, 7, 7, 7, 7, 7, 8], [10, 10, 9, 9, 8, 8, 8, 8, 8, 8]]\n",
      "[[0, 0, 0, 0, 0, 0, 0, 0, 0, 0], [1, 1, 1, 1, 1, 1, 1, 1, 1, 1], [2, 2, 2, 2, 2, 2, 2, 2, 2, 2], [3, 3, 3, 3, 3, 3, 3, 2, 3, 3], [4, 4, 4, 4, 4, 4, 4, 3, 3, 4], [5, 5, 5, 5, 5, 5, 5, 4, 4, 4], [6, 6, 6, 6, 5, 6, 6, 5, 5, 5], [7, 6, 7, 7, 6, 6, 7, 6, 6, 6], [8, 7, 6, 7, 7, 7, 7, 7, 7, 7], [9, 8, 7, 7, 8, 8, 8, 8, 8, 7], [10, 9, 8, 7, 8, 9, 9, 9, 9, 8], [11, 10, 9, 8, 8, 9, 10, 10, 10, 9], [12, 11, 10, 9, 9, 9, 10, 11, 11, 10], [13, 12, 11, 10, 10, 10, 10, 11, 12, 11]]\n",
      "[[0, 0, 0, 0, 0, 0, 0, 0, 0, 0, 0, 0, 0], [1, 0, 1, 1, 1, 1, 1, 1, 1, 1, 1, 1, 1], [2, 1, 0, 1, 2, 2, 2, 2, 2, 2, 2, 2, 2], [3, 2, 1, 1, 2, 3, 3, 3, 3, 3, 3, 3, 3], [4, 3, 2, 2, 1, 2, 3, 4, 4, 4, 4, 4, 4], [5, 4, 3, 3, 2, 1, 2, 3, 4, 5, 5, 5, 5], [6, 5, 4, 4, 3, 2, 1, 2, 3, 4, 5, 6, 6], [7, 6, 5, 5, 4, 3, 2, 1, 2, 3, 4, 5, 6], [8, 7, 6, 6, 5, 4, 3, 2, 1, 2, 3, 4, 5], [9, 8, 7, 7, 6, 5, 4, 3, 2, 2, 3, 4, 5], [10, 9, 8, 8, 7, 6, 5, 4, 3, 2, 3, 4, 4], [11, 10, 9, 9, 8, 7, 6, 5, 4, 3, 2, 3, 4], [12, 11, 10, 10, 9, 8, 7, 6, 5, 4, 3, 2, 3], [13, 12, 11, 11, 10, 9, 8, 7, 6, 5, 4, 3, 2]]\n",
      "[[0, 0, 0, 0, 0, 0, 0, 0, 0, 0, 0, 0, 0, 0], [1, 1, 1, 1, 1, 1, 1, 1, 1, 1, 1, 1, 1, 1], [2, 2, 2, 2, 2, 2, 2, 2, 2, 2, 2, 1, 2, 2], [3, 3, 3, 3, 3, 3, 3, 3, 3, 3, 3, 2, 2, 3], [4, 4, 4, 4, 4, 4, 4, 4, 4, 4, 4, 3, 3, 3], [5, 5, 5, 5, 4, 5, 5, 5, 5, 5, 5, 4, 3, 4], [6, 6, 6, 6, 5, 5, 6, 5, 6, 6, 6, 5, 4, 4], [7, 7, 7, 7, 6, 6, 6, 6, 6, 7, 7, 6, 5, 5], [8, 8, 7, 8, 7, 7, 7, 7, 7, 7, 8, 7, 6, 6], [9, 9, 8, 8, 8, 8, 8, 8, 8, 8, 8, 8, 7, 7], [10, 10, 9, 9, 9, 9, 9, 9, 9, 9, 9, 9, 8, 8], [11, 11, 10, 10, 10, 10, 10, 10, 10, 10, 10, 10, 9, 9], [12, 12, 11, 11, 11, 11, 11, 11, 11, 11, 11, 11, 10, 10], [13, 13, 12, 12, 12, 12, 12, 12, 12, 12, 12, 12, 11, 11]]\n",
      "[[0, 0, 0, 0, 0, 0, 0, 0], [1, 1, 1, 1, 1, 1, 1, 1], [2, 2, 2, 2, 2, 2, 2, 2], [3, 3, 3, 3, 3, 3, 3, 3], [4, 4, 4, 4, 4, 4, 4, 4], [5, 5, 5, 5, 4, 5, 5, 5], [6, 6, 6, 6, 5, 4, 5, 6], [7, 7, 7, 7, 6, 5, 5, 6], [8, 8, 8, 8, 7, 6, 6, 6], [9, 9, 9, 9, 8, 7, 7, 7], [10, 10, 10, 10, 9, 8, 8, 8], [11, 11, 11, 11, 10, 9, 9, 9], [12, 12, 12, 12, 11, 10, 10, 10], [13, 13, 13, 13, 12, 11, 11, 11]]\n",
      "[[0, 0, 0, 0, 0, 0, 0, 0, 0, 0], [1, 1, 1, 1, 1, 1, 1, 1, 1, 1], [2, 2, 2, 2, 2, 2, 2, 2, 1, 2], [3, 3, 3, 3, 3, 3, 3, 3, 2, 2], [4, 4, 4, 4, 4, 4, 4, 4, 3, 3], [5, 5, 5, 5, 5, 5, 5, 5, 4, 4], [6, 6, 6, 6, 5, 6, 6, 6, 5, 5], [7, 7, 7, 7, 6, 6, 7, 7, 6, 6], [8, 8, 7, 8, 7, 7, 7, 8, 7, 7], [9, 9, 8, 8, 8, 8, 8, 8, 8, 8], [10, 10, 9, 9, 9, 9, 9, 9, 9, 9], [11, 11, 10, 10, 10, 10, 10, 10, 10, 10], [12, 12, 11, 11, 11, 11, 11, 11, 11, 11], [13, 13, 12, 12, 12, 12, 12, 12, 12, 12]]\n",
      "[[0, 0, 0, 0, 0, 0, 0, 0, 0, 0], [1, 1, 1, 1, 1, 1, 1, 1, 1, 1], [2, 2, 1, 2, 2, 2, 2, 2, 2, 2], [3, 3, 2, 2, 3, 3, 3, 3, 3, 3], [4, 4, 3, 3, 2, 3, 4, 4, 4, 4], [5, 5, 4, 4, 3, 3, 4, 5, 5, 5], [6, 6, 5, 5, 4, 4, 4, 5, 6, 6], [7, 7, 6, 6, 5, 5, 5, 5, 6, 7], [8, 8, 7, 7, 6, 6, 6, 6, 6, 7], [9, 9, 8, 8, 7, 7, 7, 7, 7, 7], [10, 10, 9, 9, 8, 8, 8, 8, 8, 8]]\n",
      "[[0, 0, 0, 0, 0, 0, 0, 0, 0, 0, 0, 0, 0], [1, 1, 1, 1, 1, 1, 1, 1, 1, 1, 1, 1, 1], [2, 2, 2, 2, 2, 2, 2, 2, 1, 2, 2, 1, 2], [3, 3, 3, 3, 3, 3, 3, 3, 2, 2, 3, 2, 2], [4, 4, 4, 4, 4, 4, 3, 4, 3, 3, 3, 3, 3], [5, 5, 5, 5, 5, 5, 4, 4, 4, 4, 4, 4, 4], [6, 6, 6, 6, 6, 6, 5, 5, 5, 5, 5, 5, 5], [7, 7, 7, 7, 7, 7, 6, 6, 6, 6, 6, 6, 6], [8, 8, 7, 8, 8, 8, 7, 7, 7, 7, 7, 7, 7], [9, 9, 8, 8, 9, 8, 8, 8, 8, 8, 8, 8, 8], [10, 10, 9, 8, 9, 9, 9, 9, 9, 9, 9, 9, 9]]\n",
      "[[0, 0, 0, 0, 0, 0, 0, 0, 0, 0, 0, 0, 0, 0], [1, 1, 1, 1, 1, 1, 1, 1, 1, 1, 1, 1, 1, 1], [2, 2, 1, 2, 2, 2, 2, 2, 2, 2, 2, 2, 2, 2], [3, 3, 2, 1, 2, 3, 3, 3, 3, 3, 3, 3, 3, 3], [4, 4, 3, 2, 2, 3, 4, 3, 4, 4, 4, 4, 4, 4], [5, 5, 4, 3, 3, 3, 4, 4, 3, 4, 5, 5, 5, 5], [6, 6, 5, 4, 4, 4, 4, 5, 4, 3, 4, 5, 6, 6], [7, 7, 6, 5, 5, 4, 5, 5, 5, 4, 3, 4, 5, 6], [8, 8, 7, 6, 6, 5, 5, 6, 6, 5, 4, 3, 4, 5], [9, 9, 8, 7, 6, 6, 6, 6, 7, 6, 5, 4, 3, 4], [10, 10, 9, 8, 7, 7, 7, 7, 7, 7, 6, 5, 4, 3]]\n",
      "[[0, 0, 0, 0, 0, 0, 0, 0], [1, 1, 1, 1, 1, 1, 1, 1], [2, 2, 2, 2, 2, 2, 2, 2], [3, 3, 3, 3, 3, 3, 3, 3], [4, 4, 4, 4, 4, 3, 4, 4], [5, 5, 5, 5, 5, 4, 4, 5], [6, 6, 5, 6, 6, 5, 5, 5], [7, 7, 6, 6, 7, 6, 6, 6], [8, 8, 7, 7, 7, 7, 7, 7], [9, 9, 8, 8, 7, 8, 8, 8], [10, 10, 9, 9, 8, 8, 9, 9]]\n",
      "[[0, 0, 0, 0, 0, 0, 0, 0, 0, 0], [1, 1, 1, 1, 1, 1, 1, 1, 1, 1], [2, 2, 1, 2, 2, 2, 2, 2, 2, 2], [3, 3, 2, 1, 2, 3, 3, 3, 3, 3], [4, 4, 3, 2, 1, 2, 3, 4, 4, 4], [5, 5, 4, 3, 2, 1, 2, 3, 4, 5], [6, 6, 5, 4, 3, 2, 1, 2, 3, 4], [7, 7, 6, 5, 4, 3, 2, 1, 2, 3], [8, 8, 7, 6, 5, 4, 3, 2, 1, 2], [9, 9, 8, 7, 6, 5, 4, 3, 2, 2], [10, 10, 9, 8, 7, 6, 5, 4, 3, 2]]\n",
      "[[0, 0, 0, 0, 0, 0, 0, 0, 0, 0], [1, 1, 1, 1, 1, 1, 1, 1, 1, 1], [2, 2, 2, 2, 2, 2, 2, 2, 2, 2], [3, 3, 3, 3, 3, 3, 3, 3, 3, 3], [4, 4, 4, 4, 4, 4, 4, 3, 4, 4], [5, 5, 5, 5, 5, 5, 5, 4, 4, 5], [6, 6, 6, 6, 5, 6, 6, 5, 5, 5], [7, 7, 7, 7, 6, 6, 7, 6, 6, 6], [8, 8, 7, 8, 7, 7, 7, 7, 7, 7], [9, 9, 8, 8, 8, 8, 8, 8, 8, 8]]\n",
      "[[0, 0, 0, 0, 0, 0, 0, 0, 0, 0, 0, 0, 0], [1, 1, 1, 1, 1, 1, 1, 1, 1, 1, 1, 1, 1], [2, 2, 2, 2, 2, 2, 2, 2, 2, 2, 2, 2, 2], [3, 3, 3, 3, 3, 3, 3, 3, 3, 3, 3, 3, 3], [4, 4, 4, 4, 4, 4, 4, 4, 4, 4, 4, 4, 4], [5, 5, 5, 5, 5, 5, 5, 5, 5, 5, 5, 5, 5], [6, 6, 6, 6, 6, 6, 5, 6, 6, 6, 6, 6, 6], [7, 7, 7, 7, 7, 7, 6, 6, 7, 7, 7, 7, 7], [8, 8, 8, 8, 8, 8, 7, 7, 6, 7, 8, 7, 8], [9, 9, 9, 9, 9, 8, 8, 8, 7, 7, 8, 8, 8]]\n",
      "[[0, 0, 0, 0, 0, 0, 0, 0, 0, 0, 0, 0, 0, 0], [1, 1, 1, 1, 1, 1, 1, 1, 1, 1, 1, 1, 1, 1], [2, 2, 2, 2, 2, 2, 2, 2, 2, 1, 2, 2, 2, 2], [3, 3, 3, 3, 3, 3, 3, 3, 3, 2, 2, 3, 3, 3], [4, 4, 4, 4, 4, 4, 4, 4, 4, 3, 3, 3, 4, 4], [5, 5, 5, 5, 5, 5, 5, 5, 5, 4, 4, 4, 4, 5], [6, 6, 6, 6, 6, 6, 6, 5, 6, 5, 5, 5, 5, 5], [7, 7, 7, 7, 7, 7, 7, 6, 6, 6, 6, 6, 6, 6], [8, 8, 7, 8, 8, 8, 8, 7, 7, 7, 7, 7, 7, 7], [9, 9, 8, 8, 8, 9, 9, 8, 8, 8, 8, 8, 7, 8]]\n",
      "[[0, 0, 0, 0, 0, 0, 0, 0], [1, 0, 1, 1, 1, 1, 0, 1], [2, 1, 0, 1, 2, 2, 1, 1], [3, 2, 1, 0, 1, 2, 2, 2], [4, 3, 2, 1, 1, 2, 3, 3], [5, 4, 3, 2, 2, 2, 3, 4], [6, 5, 4, 3, 3, 2, 3, 4], [7, 6, 5, 4, 4, 3, 2, 3], [8, 7, 6, 5, 5, 4, 3, 3], [9, 8, 7, 6, 5, 5, 4, 4]]\n",
      "[[0, 0, 0, 0, 0, 0, 0, 0, 0, 0], [1, 1, 1, 1, 1, 1, 1, 1, 1, 1], [2, 2, 2, 2, 2, 2, 1, 2, 2, 2], [3, 3, 3, 3, 3, 3, 2, 2, 3, 3], [4, 4, 4, 4, 4, 4, 3, 3, 3, 4], [5, 5, 5, 5, 5, 5, 4, 4, 4, 4], [6, 6, 6, 6, 5, 6, 5, 5, 5, 5], [7, 7, 7, 7, 6, 6, 6, 6, 6, 6], [8, 8, 7, 8, 7, 7, 7, 7, 7, 7], [9, 9, 8, 8, 8, 8, 8, 8, 8, 8]]\n",
      "   ID1          Name1  ID2         Name2  Levenshtein_Distance\n",
      "0    1     John Smith  101     Jon Smith                     1\n",
      "1    2  Alice Johnson  102  Alyce Jonson                     2\n",
      "2    3     Bob Marley  105     Rob Marly                     2\n",
      "3    4      David Doe  104       Dave D.                     4\n"
     ]
    }
   ],
   "source": [
    "# First Dataframe\n",
    "data1 = {'ID1': [1, 2, 3, 4],\n",
    "         'Name1': ['John Smith', 'Alice Johnson', 'Bob Marley', 'David Doe']}\n",
    "df1 = pd.DataFrame(data1)\n",
    "# Second Dataframe\n",
    "data2 = {'ID2': [101, 102, 103, 104,105],\n",
    "         'Name2': ['Jon Smith', 'Alyce Jonson', 'Robert Marley', 'Dave D.', 'Rob Marly']}\n",
    "df2 = pd.DataFrame(data2)\n",
    "\n",
    "# Initialize an empty list to store the closest matches\n",
    "matches = []\n",
    "\n",
    "# Calculate the Levenshtein distance for all pairs\n",
    "for index1, row1 in df1.iterrows():\n",
    "    # Initialize the minimum distance to infinity and the best match to None\n",
    "    # Infinity is used to make sure that the first distance will be less than the minimum distance\n",
    "    # why not 0? because the distance can be 0 if the two strings are the same which is not the case here\n",
    "    min_distance = float('inf')\n",
    "    # best_match = None is used to make sure that the first match will be stored\n",
    "    best_match = None\n",
    "    # Iterate over the second DataFrame\n",
    "    for index2, row2 in df2.iterrows():\n",
    "        distance = calculate_levenshtein_distance(row1['Name1'], row2['Name2'])\n",
    "        # If the distance is less than the minimum distance, update the minimum distance and the best match\n",
    "        if distance < min_distance:\n",
    "            min_distance = distance\n",
    "            best_match = row2\n",
    "    matches.append({\n",
    "        'ID1': row1['ID1'],\n",
    "        'Name1': row1['Name1'],\n",
    "        'ID2': best_match['ID2'],\n",
    "        'Name2': best_match['Name2'],\n",
    "        'Levenshtein_Distance': min_distance\n",
    "    })\n",
    "\n",
    "# Create a DataFrame from the matches\n",
    "df_matches = pd.DataFrame(matches)  \n",
    "print(df_matches)"
   ]
  }
 ],
 "metadata": {
  "kernelspec": {
   "display_name": "Python 3",
   "language": "python",
   "name": "python3"
  },
  "language_info": {
   "codemirror_mode": {
    "name": "ipython",
    "version": 3
   },
   "file_extension": ".py",
   "mimetype": "text/x-python",
   "name": "python",
   "nbconvert_exporter": "python",
   "pygments_lexer": "ipython3",
   "version": "3.12.0"
  }
 },
 "nbformat": 4,
 "nbformat_minor": 2
}
