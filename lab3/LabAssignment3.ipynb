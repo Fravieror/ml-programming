{
 "cells": [
  {
   "cell_type": "code",
   "execution_count": 69,
   "metadata": {},
   "outputs": [],
   "source": [
    "import numpy as np\n",
    "import pandas as pd\n",
    "### Submitted on EConestoga Assignment Dropbox"
   ]
  },
  {
   "cell_type": "code",
   "execution_count": 70,
   "metadata": {},
   "outputs": [
    {
     "name": "stdout",
     "output_type": "stream",
     "text": [
      "True\n",
      "False\n"
     ]
    }
   ],
   "source": [
    "def no_zeros(arrayInput):\n",
    "    ## TODO: This function should return True if \n",
    "    ## numpy array arrayInput does not contain any zero\n",
    "    ## and will return False otherwise.\n",
    "    ## Implement this function using ONLY numpy methods\n",
    "    ## Sample input: [1,2,3,4,5,6,0] Sample Output: False\n",
    "    return  np.all(arrayInput != 0)\n",
    "\n",
    "print(no_zeros(np.array([1,2,3,4,5,6,1])))\n",
    "print(no_zeros(np.array([1,2,3,4,5,6,0])))"
   ]
  },
  {
   "cell_type": "code",
   "execution_count": 71,
   "metadata": {},
   "outputs": [
    {
     "name": "stdout",
     "output_type": "stream",
     "text": [
      "[  0.          33.33333333  66.66666667 100.        ]\n"
     ]
    }
   ],
   "source": [
    "def linearly_distributed(n, min, max):\n",
    "    ## TODO: This function should return a numpy array of \n",
    "    ## length n with equally spaced elements from \n",
    "    ## min (inclusive) to max (exclusive)\n",
    "    ## Implement this function using ONLY numpy methods\n",
    "    ## Sample input: (0,100,4) sample output [0,33,66, 99]\n",
    "    return np.linspace(min, max, num=n)\n",
    "    \n",
    " # Example usage:\n",
    "print(linearly_distributed(4,0,100))\n"
   ]
  },
  {
   "cell_type": "code",
   "execution_count": 72,
   "metadata": {},
   "outputs": [
    {
     "name": "stdout",
     "output_type": "stream",
     "text": [
      "[[1. 1. 1.]\n",
      " [1. 0. 1.]\n",
      " [1. 1. 1.]]\n"
     ]
    }
   ],
   "source": [
    "def two_dimensions(n):\n",
    "    ## TODO: This function should create a 2d Array of shape n*n\n",
    "    ## Where the borders of the array are ones\n",
    "    ## all other elements are zero\n",
    "    ## Implement this function using ONLY numpy methods\n",
    "    ## Sample input 3\n",
    "    ## sample output [[1,1,1],\n",
    "    ##                [1,0,1],\n",
    "    ##                [1,1,1]]\n",
    "    arr = np.zeros((n, n))\n",
    "    arr[0, :] = 1 # is a way of slicing the array. \n",
    "    # 0 specifies the first row of the array. \n",
    "    # : means \"all columns\" in the selected row.\n",
    "    arr[-1, :] = 1\n",
    "    arr[:, 0] = 1\n",
    "    arr[:, -1] = 1\n",
    "    return arr\n",
    "\n",
    "print(two_dimensions(3))\n",
    "    "
   ]
  },
  {
   "cell_type": "code",
   "execution_count": 73,
   "metadata": {},
   "outputs": [
    {
     "name": "stdout",
     "output_type": "stream",
     "text": [
      "[7 4 7 3 5 3 0 2 3 3]\n"
     ]
    }
   ],
   "source": [
    "def create_array(n,min,max):\n",
    "    ## TODO: This function should return a numpy array of \n",
    "    ## length n with equally random elements from \n",
    "    ## min (inclusive) to max (exclusive)\n",
    "    ## Implement this function using ONLY numpy methods\n",
    "    ## Sample Input (10,0,10) sample output(0,2,2,3,1,5,9,7,8,3)\n",
    "    \n",
    "    return np.random.randint(min, max, size=n)\n",
    "\n",
    "print(create_array(10,0,10))"
   ]
  },
  {
   "cell_type": "code",
   "execution_count": 74,
   "metadata": {},
   "outputs": [
    {
     "name": "stdout",
     "output_type": "stream",
     "text": [
      "[[7 4 0]\n",
      " [8 5 1]\n",
      " [6 3 2]]\n"
     ]
    }
   ],
   "source": [
    "def random_generation(n,min,max):\n",
    "    ## TODO: Write a function that takes as an input\n",
    "    ## Dimension of 2d Array n, min and max\n",
    "    ## Generate an n*n array with random numbers between\n",
    "    ## min and max inclusive\n",
    "    ## Such that no element is duplicated\n",
    "    ## return numpy array\n",
    "    ## Implement this function using ONLY numpy methods\n",
    "    arr = np.arange(min, max+1)\n",
    "    np.random.shuffle(arr)\n",
    "    return arr[:n*n].reshape(n, n)\n",
    "\n",
    "print(random_generation(3,0,8))"
   ]
  },
  {
   "cell_type": "code",
   "execution_count": 75,
   "metadata": {},
   "outputs": [
    {
     "name": "stdout",
     "output_type": "stream",
     "text": [
      "                date_time     user_id event\n",
      "16    2018-01-01 00:13:06  2458151278  read\n",
      "18    2018-01-01 00:14:53  2458151280  read\n",
      "19    2018-01-01 00:15:44  2458151281  read\n",
      "22    2018-01-01 00:17:31  2458151284  read\n",
      "27    2018-01-01 00:23:16  2458151289  read\n",
      "...                   ...         ...   ...\n",
      "1774  2018-01-01 23:47:19  2458153036  read\n",
      "1777  2018-01-01 23:51:17  2458153039  read\n",
      "1780  2018-01-01 23:51:52  2458153042  read\n",
      "1781  2018-01-01 23:53:03  2458153043  read\n",
      "1786  2018-01-01 23:54:45  2458153048  read\n",
      "\n",
      "[179 rows x 3 columns]\n"
     ]
    }
   ],
   "source": [
    "def filtered_dataframe(csv_path):\n",
    "    ## TODO: Write a function that takes as an input csv file path\n",
    "    ## of the pandas_tutorial_read\n",
    "    ## Filter the dataframe on articles from county_2\n",
    "    ## Where topic is Asia \n",
    "    ## print: date_time, user_id and event\n",
    "    ## Note: (Column names are in the slides)\n",
    "    \n",
    "    df = pd.read_csv(csv_path, delimiter=';')\n",
    "    df.columns = ['date_time', 'event', 'country', 'user_id', 'role', 'topic']\n",
    "    df = df[(df['country'] == 'country_2') & (df['topic'] == 'Asia')]\n",
    "    print(df[['date_time', 'user_id', 'event']])\n",
    "    \n",
    "\n",
    "filtered_dataframe('pandas_tutorial_read.csv')\n",
    "    "
   ]
  }
 ],
 "metadata": {
  "kernelspec": {
   "display_name": "Python 3",
   "language": "python",
   "name": "python3"
  },
  "language_info": {
   "codemirror_mode": {
    "name": "ipython",
    "version": 3
   },
   "file_extension": ".py",
   "mimetype": "text/x-python",
   "name": "python",
   "nbconvert_exporter": "python",
   "pygments_lexer": "ipython3",
   "version": "3.12.0"
  },
  "orig_nbformat": 4
 },
 "nbformat": 4,
 "nbformat_minor": 2
}
